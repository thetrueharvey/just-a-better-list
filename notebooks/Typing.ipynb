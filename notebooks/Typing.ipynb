{
 "cells": [
  {
   "attachments": {},
   "cell_type": "markdown",
   "metadata": {},
   "source": [
    "# Typing\n",
    "\n",
    "Validates that types are being inferred correctly."
   ]
  },
  {
   "cell_type": "code",
   "execution_count": null,
   "metadata": {},
   "outputs": [],
   "source": [
    "import inspect"
   ]
  },
  {
   "cell_type": "code",
   "execution_count": 1,
   "metadata": {},
   "outputs": [
    {
     "ename": "BeartypeDecorHintForwardRefException",
     "evalue": "Forward reference \"jabl.jabl.jabl[T]\" syntactically invalid as module attribute name.",
     "output_type": "error",
     "traceback": [
      "\u001b[1;31m---------------------------------------------------------------------------\u001b[0m",
      "\u001b[1;31mBeartypeDecorHintForwardRefException\u001b[0m      Traceback (most recent call last)",
      "Cell \u001b[1;32mIn[1], line 1\u001b[0m\n\u001b[1;32m----> 1\u001b[0m \u001b[39mfrom\u001b[39;00m \u001b[39mjabl\u001b[39;00m \u001b[39mimport\u001b[39;00m jabl\n",
      "File \u001b[1;32mc:\\Users\\harvey\\github\\a-much-better-list\\jabl\\__init__.py:1\u001b[0m\n\u001b[1;32m----> 1\u001b[0m \u001b[39mfrom\u001b[39;00m \u001b[39mjabl\u001b[39;00m\u001b[39m.\u001b[39;00m\u001b[39mjabl\u001b[39;00m \u001b[39mimport\u001b[39;00m jabl  \u001b[39m# type: ignore\u001b[39;00m\n",
      "File \u001b[1;32mc:\\Users\\harvey\\github\\a-much-better-list\\jabl\\jabl.py:36\u001b[0m\n\u001b[0;32m     32\u001b[0m V \u001b[39m=\u001b[39m TypeVar(\u001b[39m'\u001b[39m\u001b[39mV\u001b[39m\u001b[39m'\u001b[39m)\n\u001b[0;32m     35\u001b[0m \u001b[39m# %% Class\u001b[39;00m\n\u001b[1;32m---> 36\u001b[0m \u001b[39mclass\u001b[39;49;00m \u001b[39mjabl\u001b[39;49;00m(Generic[T]):\n\u001b[0;32m     37\u001b[0m     \u001b[39mdef\u001b[39;49;00m \u001b[39m__init__\u001b[39;49m(\u001b[39mself\u001b[39;49m, \u001b[39m*\u001b[39;49margs: T):\n\u001b[0;32m     38\u001b[0m         \u001b[39mself\u001b[39;49m\u001b[39m.\u001b[39;49mdata: Sequence[T] \u001b[39m=\u001b[39;49m args\n",
      "File \u001b[1;32mc:\\Users\\harvey\\github\\a-much-better-list\\jabl\\jabl.py:45\u001b[0m, in \u001b[0;36mjabl\u001b[1;34m()\u001b[0m\n\u001b[0;32m     42\u001b[0m     \u001b[39mself\u001b[39m\u001b[39m.\u001b[39mstack \u001b[39m=\u001b[39m \u001b[39mself\u001b[39m\u001b[39m.\u001b[39mdata\n\u001b[0;32m     43\u001b[0m     \u001b[39mreturn\u001b[39;00m \u001b[39mself\u001b[39m\n\u001b[1;32m---> 45\u001b[0m \u001b[39m@beartype\u001b[39;49m\n\u001b[0;32m     46\u001b[0m \u001b[39mdef\u001b[39;49;00m \u001b[39mfilter\u001b[39;49m(\n\u001b[0;32m     47\u001b[0m     \u001b[39mself\u001b[39;49m,\n\u001b[0;32m     48\u001b[0m     predicate: Union[Callable[\u001b[39m.\u001b[39;49m\u001b[39m.\u001b[39;49m\u001b[39m.\u001b[39;49m, \u001b[39mbool\u001b[39;49m], \u001b[39mlist\u001b[39;49m[\u001b[39mbool\u001b[39;49m]]\n\u001b[0;32m     49\u001b[0m ) \u001b[39m-\u001b[39;49m\u001b[39m>\u001b[39;49m \u001b[39m'\u001b[39;49m\u001b[39mjabl[T]\u001b[39;49m\u001b[39m'\u001b[39;49m:\n\u001b[0;32m     50\u001b[0m     \u001b[39mif\u001b[39;49;00m \u001b[39misinstance\u001b[39;49m(predicate, \u001b[39mlist\u001b[39;49m):\n\u001b[0;32m     51\u001b[0m         \u001b[39mdef\u001b[39;49;00m \u001b[39m_predicate\u001b[39;49m(_):\n",
      "File \u001b[1;32mc:\\Users\\harvey\\github\\a-much-better-list\\.venv\\Lib\\site-packages\\beartype\\_decor\\_cache\\cachedecor.py:77\u001b[0m, in \u001b[0;36mbeartype\u001b[1;34m(obj, conf)\u001b[0m\n\u001b[0;32m     62\u001b[0m \u001b[39m# Else, \"conf\" is a configuration.\u001b[39;00m\n\u001b[0;32m     63\u001b[0m \u001b[39m#\u001b[39;00m\n\u001b[0;32m     64\u001b[0m \u001b[39m# If passed an object to be decorated, this decorator is in decoration\u001b[39;00m\n\u001b[1;32m   (...)\u001b[0m\n\u001b[0;32m     74\u001b[0m \u001b[39m# here; callers that are doing this are sufficiently intelligent to be\u001b[39;00m\n\u001b[0;32m     75\u001b[0m \u001b[39m# trusted to violate PEP 561-compliance if they so choose. So... *shrug*\u001b[39;00m\n\u001b[0;32m     76\u001b[0m \u001b[39melif\u001b[39;00m obj \u001b[39mis\u001b[39;00m \u001b[39mnot\u001b[39;00m \u001b[39mNone\u001b[39;00m:\n\u001b[1;32m---> 77\u001b[0m     \u001b[39mreturn\u001b[39;00m beartype_object(obj, conf)\n\u001b[0;32m     78\u001b[0m \u001b[39m# Else, we were passed *NO* object to be decorated. In this case, this\u001b[39;00m\n\u001b[0;32m     79\u001b[0m \u001b[39m# decorator is in configuration rather than decoration mode.\u001b[39;00m\n\u001b[0;32m     80\u001b[0m \n\u001b[1;32m   (...)\u001b[0m\n\u001b[0;32m     86\u001b[0m \u001b[39m# \"None\" otherwise (i.e., if this is the first call to this public\u001b[39;00m\n\u001b[0;32m     87\u001b[0m \u001b[39m# decorator passed this configuration in configuration mode). Phew!\u001b[39;00m\n\u001b[0;32m     88\u001b[0m beartype_confed_cached \u001b[39m=\u001b[39m _bear_conf_to_decor\u001b[39m.\u001b[39mget(conf)\n",
      "File \u001b[1;32mc:\\Users\\harvey\\github\\a-much-better-list\\.venv\\Lib\\site-packages\\beartype\\_decor\\decorcore.py:239\u001b[0m, in \u001b[0;36mbeartype_object\u001b[1;34m(obj, conf, cls_stack)\u001b[0m\n\u001b[0;32m    234\u001b[0m     \u001b[39mraise\u001b[39;00m BeartypeDecorWrappeeException(\n\u001b[0;32m    235\u001b[0m         \u001b[39mf\u001b[39m\u001b[39m'\u001b[39m\u001b[39mUncallable \u001b[39m\u001b[39m{\u001b[39;00m\u001b[39mrepr\u001b[39m(obj)\u001b[39m}\u001b[39;00m\u001b[39m not decoratable by @beartype.\u001b[39m\u001b[39m'\u001b[39m)\n\u001b[0;32m    236\u001b[0m \u001b[39m# Else, this object is callable.\u001b[39;00m\n\u001b[0;32m    237\u001b[0m \n\u001b[0;32m    238\u001b[0m \u001b[39m# Return a new callable decorating that callable with type-checking.\u001b[39;00m\n\u001b[1;32m--> 239\u001b[0m \u001b[39mreturn\u001b[39;00m _beartype_func(  \u001b[39m# type: ignore[return-value]\u001b[39;49;00m\n\u001b[0;32m    240\u001b[0m     func\u001b[39m=\u001b[39;49mobj,\n\u001b[0;32m    241\u001b[0m     conf\u001b[39m=\u001b[39;49mconf,\n\u001b[0;32m    242\u001b[0m     cls_stack\u001b[39m=\u001b[39;49mcls_stack,\n\u001b[0;32m    243\u001b[0m )\n",
      "File \u001b[1;32mc:\\Users\\harvey\\github\\a-much-better-list\\.venv\\Lib\\site-packages\\beartype\\_decor\\decorcore.py:592\u001b[0m, in \u001b[0;36m_beartype_func\u001b[1;34m(func, conf, **kwargs)\u001b[0m\n\u001b[0;32m    589\u001b[0m bear_call\u001b[39m.\u001b[39mreinit(func, conf, \u001b[39m*\u001b[39m\u001b[39m*\u001b[39mkwargs)\n\u001b[0;32m    591\u001b[0m \u001b[39m# Generate the raw string of Python statements implementing this wrapper.\u001b[39;00m\n\u001b[1;32m--> 592\u001b[0m func_wrapper_code \u001b[39m=\u001b[39m generate_code(bear_call)\n\u001b[0;32m    594\u001b[0m \u001b[39m# If that callable requires *NO* type-checking, silently reduce to a noop\u001b[39;00m\n\u001b[0;32m    595\u001b[0m \u001b[39m# and thus the identity decorator by returning that callable as is.\u001b[39;00m\n\u001b[0;32m    596\u001b[0m \u001b[39mif\u001b[39;00m \u001b[39mnot\u001b[39;00m func_wrapper_code:\n",
      "File \u001b[1;32mc:\\Users\\harvey\\github\\a-much-better-list\\.venv\\Lib\\site-packages\\beartype\\_decor\\_wrapper\\wrappermain.py:180\u001b[0m, in \u001b[0;36mgenerate_code\u001b[1;34m(bear_call, CODE_RETURN_UNCHECKED_format)\u001b[0m\n\u001b[0;32m    176\u001b[0m code_check_params \u001b[39m=\u001b[39m _code_check_args(bear_call)\n\u001b[0;32m    178\u001b[0m \u001b[39m# Python code snippet type-checking the callable return if this return is\u001b[39;00m\n\u001b[0;32m    179\u001b[0m \u001b[39m# annotated with an unignorable type hint *OR* the empty string otherwise.\u001b[39;00m\n\u001b[1;32m--> 180\u001b[0m code_check_return \u001b[39m=\u001b[39m _code_check_return(bear_call)\n\u001b[0;32m    182\u001b[0m \u001b[39m# If the callable return requires *NO* type-checking...\u001b[39;00m\n\u001b[0;32m    183\u001b[0m \u001b[39m#\u001b[39;00m\n\u001b[0;32m    184\u001b[0m \u001b[39m# Note that this branch *CANNOT* be embedded in the prior call to the\u001b[39;00m\n\u001b[0;32m    185\u001b[0m \u001b[39m# _code_check_return() function, as doing so would prevent us from\u001b[39;00m\n\u001b[0;32m    186\u001b[0m \u001b[39m# efficiently reducing to a noop here.\u001b[39;00m\n\u001b[0;32m    187\u001b[0m \u001b[39mif\u001b[39;00m \u001b[39mnot\u001b[39;00m code_check_return:\n\u001b[0;32m    188\u001b[0m     \u001b[39m# If all callable parameters also require *NO* type-checking, this\u001b[39;00m\n\u001b[0;32m    189\u001b[0m     \u001b[39m# callable itself requires *NO* type-checking. In this case, return the\u001b[39;00m\n\u001b[0;32m    190\u001b[0m     \u001b[39m# empty string instructing the parent @beartype decorator to reduce to\u001b[39;00m\n\u001b[0;32m    191\u001b[0m     \u001b[39m# a noop (i.e., the identity decorator returning this callable as is).\u001b[39;00m\n",
      "File \u001b[1;32mc:\\Users\\harvey\\github\\a-much-better-list\\.venv\\Lib\\site-packages\\beartype\\_decor\\_wrapper\\wrappermain.py:629\u001b[0m, in \u001b[0;36m_code_check_return\u001b[1;34m(bear_call)\u001b[0m\n\u001b[0;32m    623\u001b[0m         \u001b[39m# Else, this PEP-compliant hint is ignorable.\u001b[39;00m\n\u001b[0;32m    624\u001b[0m         \u001b[39m# if not func_wrapper_code: print(f'Ignoring {bear_call.func_name} return hint {repr(hint)}...')\u001b[39;00m\n\u001b[0;32m    625\u001b[0m \u001b[39m# If any exception was raised, reraise this exception with each placeholder\u001b[39;00m\n\u001b[0;32m    626\u001b[0m \u001b[39m# substring (i.e., \"EXCEPTION_PLACEHOLDER\" instance) replaced by a\u001b[39;00m\n\u001b[0;32m    627\u001b[0m \u001b[39m# human-readable description of this callable and annotated return.\u001b[39;00m\n\u001b[0;32m    628\u001b[0m \u001b[39mexcept\u001b[39;00m \u001b[39mException\u001b[39;00m \u001b[39mas\u001b[39;00m exception:\n\u001b[1;32m--> 629\u001b[0m     reraise_exception_placeholder(\n\u001b[0;32m    630\u001b[0m         exception\u001b[39m=\u001b[39;49mexception,\n\u001b[0;32m    631\u001b[0m         target_str\u001b[39m=\u001b[39;49mprefix_callable_decorated_return(\n\u001b[0;32m    632\u001b[0m             bear_call\u001b[39m.\u001b[39;49mfunc_wrappee),\n\u001b[0;32m    633\u001b[0m     )\n\u001b[0;32m    635\u001b[0m \u001b[39m# Return this code.\u001b[39;00m\n\u001b[0;32m    636\u001b[0m \u001b[39mreturn\u001b[39;00m func_wrapper_code\n",
      "File \u001b[1;32mc:\\Users\\harvey\\github\\a-much-better-list\\.venv\\Lib\\site-packages\\beartype\\_util\\error\\utilerror.py:212\u001b[0m, in \u001b[0;36mreraise_exception_placeholder\u001b[1;34m(exception, target_str, source_str)\u001b[0m\n\u001b[0;32m    206\u001b[0m         exception\u001b[39m.\u001b[39margs \u001b[39m=\u001b[39m (exception_message,) \u001b[39m+\u001b[39m exception\u001b[39m.\u001b[39margs[\u001b[39m1\u001b[39m:]\n\u001b[0;32m    207\u001b[0m     \u001b[39m# Else, this message remains preserved as is.\u001b[39;00m\n\u001b[0;32m    208\u001b[0m \u001b[39m# Else, this is an unconventional exception. In this case, preserve this\u001b[39;00m\n\u001b[0;32m    209\u001b[0m \u001b[39m# exception as is.\u001b[39;00m\n\u001b[0;32m    210\u001b[0m \n\u001b[0;32m    211\u001b[0m \u001b[39m# Re-raise this exception while preserving its original traceback.\u001b[39;00m\n\u001b[1;32m--> 212\u001b[0m \u001b[39mraise\u001b[39;00m exception\u001b[39m.\u001b[39mwith_traceback(exception\u001b[39m.\u001b[39m__traceback__)\n",
      "File \u001b[1;32mc:\\Users\\harvey\\github\\a-much-better-list\\.venv\\Lib\\site-packages\\beartype\\_decor\\_wrapper\\wrappermain.py:601\u001b[0m, in \u001b[0;36m_code_check_return\u001b[1;34m(bear_call)\u001b[0m\n\u001b[0;32m    597\u001b[0m update_mapping(\n\u001b[0;32m    598\u001b[0m     bear_call\u001b[39m.\u001b[39mfunc_wrapper_scope, func_wrapper_scope)\n\u001b[0;32m    600\u001b[0m \u001b[39m# Unmemoize this snippet against this return.\u001b[39;00m\n\u001b[1;32m--> 601\u001b[0m code_return_check_pith_unmemoized \u001b[39m=\u001b[39m _unmemoize_func_wrapper_code(\n\u001b[0;32m    602\u001b[0m     bear_call\u001b[39m=\u001b[39;49mbear_call,\n\u001b[0;32m    603\u001b[0m     func_wrapper_code\u001b[39m=\u001b[39;49mcode_return_check_pith,\n\u001b[0;32m    604\u001b[0m     pith_repr\u001b[39m=\u001b[39;49m_RETURN_REPR,\n\u001b[0;32m    605\u001b[0m     hint_forwardrefs_class_basename\u001b[39m=\u001b[39;49m(\n\u001b[0;32m    606\u001b[0m         hint_forwardrefs_class_basename),\n\u001b[0;32m    607\u001b[0m )\n\u001b[0;32m    609\u001b[0m \u001b[39m# Python code snippet type-checking this return.\u001b[39;00m\n\u001b[0;32m    610\u001b[0m code_return_check_prefix \u001b[39m=\u001b[39m CODE_RETURN_CHECK_PREFIX\u001b[39m.\u001b[39mformat(\n\u001b[0;32m    611\u001b[0m     func_call_prefix\u001b[39m=\u001b[39mbear_call\u001b[39m.\u001b[39mfunc_wrapper_code_call_prefix)\n",
      "File \u001b[1;32mc:\\Users\\harvey\\github\\a-much-better-list\\.venv\\Lib\\site-packages\\beartype\\_decor\\_wrapper\\wrappermain.py:726\u001b[0m, in \u001b[0;36m_unmemoize_func_wrapper_code\u001b[1;34m(bear_call, func_wrapper_code, pith_repr, hint_forwardrefs_class_basename)\u001b[0m\n\u001b[0;32m    711\u001b[0m     \u001b[39m# For each unqualified classname referred to by a relative forward\u001b[39;00m\n\u001b[0;32m    712\u001b[0m     \u001b[39m# reference type hints visitable from the current root type hint...\u001b[39;00m\n\u001b[0;32m    713\u001b[0m     \u001b[39mfor\u001b[39;00m hint_forwardref_class_basename \u001b[39min\u001b[39;00m hint_forwardrefs_class_basename:\n\u001b[0;32m    714\u001b[0m         \u001b[39m# Generate an unmemoized callable-specific code snippet checking\u001b[39;00m\n\u001b[0;32m    715\u001b[0m         \u001b[39m# this class by globally replacing in this callable-agnostic code...\u001b[39;00m\n\u001b[0;32m    716\u001b[0m         func_wrapper_code \u001b[39m=\u001b[39m replace_str_substrs(\n\u001b[0;32m    717\u001b[0m             text\u001b[39m=\u001b[39mfunc_wrapper_code,\n\u001b[0;32m    718\u001b[0m             \u001b[39m# This placeholder substring cached into this code with...\u001b[39;00m\n\u001b[0;32m    719\u001b[0m             old\u001b[39m=\u001b[39m(\n\u001b[0;32m    720\u001b[0m                 \u001b[39mf\u001b[39m\u001b[39m'\u001b[39m\u001b[39m{\u001b[39;00mPEP_CODE_HINT_FORWARDREF_UNQUALIFIED_PLACEHOLDER_PREFIX\u001b[39m}\u001b[39;00m\u001b[39m'\u001b[39m\n\u001b[0;32m    721\u001b[0m                 \u001b[39mf\u001b[39m\u001b[39m'\u001b[39m\u001b[39m{\u001b[39;00mhint_forwardref_class_basename\u001b[39m}\u001b[39;00m\u001b[39m'\u001b[39m\n\u001b[0;32m    722\u001b[0m                 \u001b[39mf\u001b[39m\u001b[39m'\u001b[39m\u001b[39m{\u001b[39;00mPEP_CODE_HINT_FORWARDREF_UNQUALIFIED_PLACEHOLDER_SUFFIX\u001b[39m}\u001b[39;00m\u001b[39m'\u001b[39m\n\u001b[0;32m    723\u001b[0m             ),\n\u001b[0;32m    724\u001b[0m             \u001b[39m# Python expression evaluating to this class when accessed\u001b[39;00m\n\u001b[0;32m    725\u001b[0m             \u001b[39m# via the private \"__beartypistry\" parameter.\u001b[39;00m\n\u001b[1;32m--> 726\u001b[0m             new\u001b[39m=\u001b[39mregister_typistry_forwardref(\n\u001b[0;32m    727\u001b[0m                 \u001b[39m# Fully-qualified classname referred to by this forward\u001b[39;49;00m\n\u001b[0;32m    728\u001b[0m                 \u001b[39m# reference relative to the decorated callable.\u001b[39;49;00m\n\u001b[0;32m    729\u001b[0m                 get_hint_pep484585_forwardref_classname_relative_to_object(\n\u001b[0;32m    730\u001b[0m                     hint\u001b[39m=\u001b[39;49mhint_forwardref_class_basename, obj\u001b[39m=\u001b[39;49mfunc)\n\u001b[0;32m    731\u001b[0m             ),\n\u001b[0;32m    732\u001b[0m         )\n\u001b[0;32m    734\u001b[0m \u001b[39m# Return this unmemoized callable-specific code snippet.\u001b[39;00m\n\u001b[0;32m    735\u001b[0m \u001b[39mreturn\u001b[39;00m func_wrapper_code\n",
      "File \u001b[1;32mc:\\Users\\harvey\\github\\a-much-better-list\\.venv\\Lib\\site-packages\\beartype\\_util\\cache\\utilcachecall.py:278\u001b[0m, in \u001b[0;36mcallable_cached.<locals>._callable_cached\u001b[1;34m(*args)\u001b[0m\n\u001b[0;32m    275\u001b[0m         args_flat_to_exception[args_flat] \u001b[39m=\u001b[39m exception\n\u001b[0;32m    277\u001b[0m         \u001b[39m# Re-raise this exception.\u001b[39;00m\n\u001b[1;32m--> 278\u001b[0m         \u001b[39mraise\u001b[39;00m exception\n\u001b[0;32m    279\u001b[0m \u001b[39m# If one or more objects either passed to *OR* returned from this call\u001b[39;00m\n\u001b[0;32m    280\u001b[0m \u001b[39m# are unhashable, perform this call as is *WITHOUT* memoization. While\u001b[39;00m\n\u001b[0;32m    281\u001b[0m \u001b[39m# non-ideal, stability is better than raising a fatal exception.\u001b[39;00m\n\u001b[0;32m    282\u001b[0m \u001b[39mexcept\u001b[39;00m \u001b[39mTypeError\u001b[39;00m:\n\u001b[0;32m    283\u001b[0m     \u001b[39m#FIXME: If testing, emit a non-fatal warning or possibly even raise\u001b[39;00m\n\u001b[0;32m    284\u001b[0m     \u001b[39m#a fatal exception. In either case, we want our test suite to notify\u001b[39;00m\n\u001b[0;32m    285\u001b[0m     \u001b[39m#us about this.\u001b[39;00m\n",
      "File \u001b[1;32mc:\\Users\\harvey\\github\\a-much-better-list\\.venv\\Lib\\site-packages\\beartype\\_util\\cache\\utilcachecall.py:270\u001b[0m, in \u001b[0;36mcallable_cached.<locals>._callable_cached\u001b[1;34m(*args)\u001b[0m\n\u001b[0;32m    264\u001b[0m \u001b[39m# Else, this callable has yet to be called with these parameters.\u001b[39;00m\n\u001b[0;32m    265\u001b[0m \n\u001b[0;32m    266\u001b[0m \u001b[39m# Attempt to...\u001b[39;00m\n\u001b[0;32m    267\u001b[0m \u001b[39mtry\u001b[39;00m:\n\u001b[0;32m    268\u001b[0m     \u001b[39m# Call this parameter with these parameters and cache the value\u001b[39;00m\n\u001b[0;32m    269\u001b[0m     \u001b[39m# returned by this call to these parameters.\u001b[39;00m\n\u001b[1;32m--> 270\u001b[0m     return_value \u001b[39m=\u001b[39m args_flat_to_return_value[args_flat] \u001b[39m=\u001b[39m func(\n\u001b[0;32m    271\u001b[0m         \u001b[39m*\u001b[39;49margs)\n\u001b[0;32m    272\u001b[0m \u001b[39m# If this call raised an exception...\u001b[39;00m\n\u001b[0;32m    273\u001b[0m \u001b[39mexcept\u001b[39;00m \u001b[39mException\u001b[39;00m \u001b[39mas\u001b[39;00m exception:\n\u001b[0;32m    274\u001b[0m     \u001b[39m# Cache this exception to these parameters.\u001b[39;00m\n",
      "File \u001b[1;32mc:\\Users\\harvey\\github\\a-much-better-list\\.venv\\Lib\\site-packages\\beartype\\_decor\\_cache\\cachetype.py:97\u001b[0m, in \u001b[0;36mregister_typistry_forwardref\u001b[1;34m(hint_classname)\u001b[0m\n\u001b[0;32m     61\u001b[0m \u001b[39m\u001b[39m\u001b[39m'''\u001b[39;00m\n\u001b[0;32m     62\u001b[0m \u001b[39mRegister the passed **fully-qualified forward reference** (i.e., string\u001b[39;00m\n\u001b[0;32m     63\u001b[0m \u001b[39mwhose value is the fully-qualified name of a user-defined class that\u001b[39;00m\n\u001b[1;32m   (...)\u001b[0m\n\u001b[0;32m     92\u001b[0m \u001b[39m    fully-qualified classname.\u001b[39;00m\n\u001b[0;32m     93\u001b[0m \u001b[39m'''\u001b[39;00m\n\u001b[0;32m     95\u001b[0m \u001b[39m# If this object is *NOT* the syntactically valid fully-qualified name of a\u001b[39;00m\n\u001b[0;32m     96\u001b[0m \u001b[39m# module attribute which may *NOT* actually exist, raise an exception.\u001b[39;00m\n\u001b[1;32m---> 97\u001b[0m die_unless_module_attr_name(\n\u001b[0;32m     98\u001b[0m     module_attr_name\u001b[39m=\u001b[39;49mhint_classname,\n\u001b[0;32m     99\u001b[0m     exception_cls\u001b[39m=\u001b[39;49mBeartypeDecorHintForwardRefException,\n\u001b[0;32m    100\u001b[0m     exception_prefix\u001b[39m=\u001b[39;49m\u001b[39m'\u001b[39;49m\u001b[39mForward reference \u001b[39;49m\u001b[39m'\u001b[39;49m,\n\u001b[0;32m    101\u001b[0m )\n\u001b[0;32m    103\u001b[0m \u001b[39m# Return a Python expression evaluating to this type *WITHOUT* explicitly\u001b[39;00m\n\u001b[0;32m    104\u001b[0m \u001b[39m# registering this forward reference with the beartypistry singleton. Why?\u001b[39;00m\n\u001b[0;32m    105\u001b[0m \u001b[39m# Because the Beartypistry.__missing__() dunder method implicitly handles\u001b[39;00m\n\u001b[0;32m    106\u001b[0m \u001b[39m# forward references by dynamically registering types on their first access\u001b[39;00m\n\u001b[0;32m    107\u001b[0m \u001b[39m# if *NOT* already registered. Ergo, our job is actually done here.\u001b[39;00m\n\u001b[0;32m    108\u001b[0m \u001b[39mreturn\u001b[39;00m (\n\u001b[0;32m    109\u001b[0m     \u001b[39mf\u001b[39m\u001b[39m'\u001b[39m\u001b[39m{\u001b[39;00m_CODE_TYPISTRY_HINT_NAME_TO_HINT_PREFIX\u001b[39m}\u001b[39;00m\u001b[39m{\u001b[39;00m\u001b[39mrepr\u001b[39m(hint_classname)\u001b[39m}\u001b[39;00m\u001b[39m'\u001b[39m\n\u001b[0;32m    110\u001b[0m     \u001b[39mf\u001b[39m\u001b[39m'\u001b[39m\u001b[39m{\u001b[39;00m_CODE_TYPISTRY_HINT_NAME_TO_HINT_SUFFIX\u001b[39m}\u001b[39;00m\u001b[39m'\u001b[39m\n\u001b[0;32m    111\u001b[0m )\n",
      "File \u001b[1;32mc:\\Users\\harvey\\github\\a-much-better-list\\.venv\\Lib\\site-packages\\beartype\\_util\\mod\\utilmodtest.py:96\u001b[0m, in \u001b[0;36mdie_unless_module_attr_name\u001b[1;34m(module_attr_name, exception_cls, exception_prefix)\u001b[0m\n\u001b[0;32m     90\u001b[0m \u001b[39m# Else, this string contains one or more \".\" characters and is thus the\u001b[39;00m\n\u001b[0;32m     91\u001b[0m \u001b[39m# fully-qualified name of a non-builtin type.\u001b[39;00m\n\u001b[0;32m     92\u001b[0m \u001b[39m#\u001b[39;00m\n\u001b[0;32m     93\u001b[0m \u001b[39m# If this string is syntactically invalid as a fully-qualified module\u001b[39;00m\n\u001b[0;32m     94\u001b[0m \u001b[39m# attribute name, raise an exception.\u001b[39;00m\n\u001b[0;32m     95\u001b[0m \u001b[39melif\u001b[39;00m \u001b[39mnot\u001b[39;00m is_identifier(module_attr_name):\n\u001b[1;32m---> 96\u001b[0m     \u001b[39mraise\u001b[39;00m exception_cls(\n\u001b[0;32m     97\u001b[0m         \u001b[39mf\u001b[39m\u001b[39m'\u001b[39m\u001b[39m{\u001b[39;00mexception_prefix\u001b[39m}\u001b[39;00m\u001b[39m\"\u001b[39m\u001b[39m{\u001b[39;00mmodule_attr_name\u001b[39m}\u001b[39;00m\u001b[39m\"\u001b[39m\u001b[39m \u001b[39m\u001b[39m'\u001b[39m\n\u001b[0;32m     98\u001b[0m         \u001b[39mf\u001b[39m\u001b[39m'\u001b[39m\u001b[39msyntactically invalid as module attribute name.\u001b[39m\u001b[39m'\u001b[39m\n\u001b[0;32m     99\u001b[0m     )\n",
      "\u001b[1;31mBeartypeDecorHintForwardRefException\u001b[0m: Forward reference \"jabl.jabl.jabl[T]\" syntactically invalid as module attribute name."
     ]
    }
   ],
   "source": [
    "from jabl import jabl"
   ]
  },
  {
   "cell_type": "code",
   "execution_count": null,
   "metadata": {},
   "outputs": [],
   "source": [
    "test = jabl(1,2,3)\n",
    "test = jabl(1,2,3).into_iter().map(float)\n",
    "test = jabl(1,2,3).into_iter().map(float).collect()\n",
    "test = jabl(1,2,3).into_iter().chunk(3)\n",
    "test = jabl(1,2,3).into_iter().chunk(3).map(lambda chunk: chunk.into_iter().map(float).collect()).unchunk()"
   ]
  },
  {
   "cell_type": "code",
   "execution_count": 5,
   "metadata": {},
   "outputs": [],
   "source": [
    "class SomeClass:\n",
    "    x: list[int]\n",
    "    \n",
    "    def __init__(self, x: list[int]) -> None:\n",
    "        self.x = x"
   ]
  },
  {
   "cell_type": "code",
   "execution_count": 6,
   "metadata": {},
   "outputs": [],
   "source": [
    "test = jabl(1,2,3).into_iter().chunk(n_chunks=3).map(SomeClass)"
   ]
  },
  {
   "cell_type": "code",
   "execution_count": 7,
   "metadata": {},
   "outputs": [
    {
     "data": {
      "text/plain": [
       "<jabl.jabl.jabl at 0x234fff01010>"
      ]
     },
     "execution_count": 7,
     "metadata": {},
     "output_type": "execute_result"
    }
   ],
   "source": []
  }
 ],
 "metadata": {
  "kernelspec": {
   "display_name": ".venv",
   "language": "python",
   "name": "python3"
  },
  "language_info": {
   "codemirror_mode": {
    "name": "ipython",
    "version": 3
   },
   "file_extension": ".py",
   "mimetype": "text/x-python",
   "name": "python",
   "nbconvert_exporter": "python",
   "pygments_lexer": "ipython3",
   "version": "3.11.2"
  },
  "orig_nbformat": 4,
  "vscode": {
   "interpreter": {
    "hash": "7f37080117f467c5a74c4eeb7b69973b6d42b6014fc29924bff0ea81d0fe685d"
   }
  }
 },
 "nbformat": 4,
 "nbformat_minor": 2
}
